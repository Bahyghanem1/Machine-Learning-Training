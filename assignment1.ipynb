{
  "nbformat": 4,
  "nbformat_minor": 0,
  "metadata": {
    "colab": {
      "name": "Untitled0.ipynb",
      "provenance": [],
      "authorship_tag": "ABX9TyOP0BMXc8Wscs2kQX8kq8Wr",
      "include_colab_link": true
    },
    "kernelspec": {
      "name": "python3",
      "display_name": "Python 3"
    },
    "language_info": {
      "name": "python"
    }
  },
  "cells": [
    {
      "cell_type": "markdown",
      "metadata": {
        "id": "view-in-github",
        "colab_type": "text"
      },
      "source": [
        "<a href=\"https://colab.research.google.com/github/Bahyghanem1/Machine-Learning-Training/blob/main/assignment1.ipynb\" target=\"_parent\"><img src=\"https://colab.research.google.com/assets/colab-badge.svg\" alt=\"Open In Colab\"/></a>"
      ]
    },
    {
      "cell_type": "markdown",
      "metadata": {
        "id": "a8CKJpxVP6ob"
      },
      "source": [
        "1"
      ]
    },
    {
      "cell_type": "code",
      "metadata": {
        "id": "tUevYljrP1pr"
      },
      "source": [
        "l1=int(input(\"enter length of first rectangle: \"))\n",
        "w1=int(input(\"enter width of first rectangle: \"))\n",
        "l2=int(input(\"enter length of second rectangle: \"))\n",
        "w2=int(input(\"enter width of second rectangle: \"))\n",
        "a1=l1*w1\n",
        "a2=l2*w2\n",
        "if a1 > a2 :\n",
        "    print(\"area of first rectangle is greater\")\n",
        "if a2 > a1 :\n",
        "    print(\"area of second rectangle is greater\")\n",
        "if a1 == a2 :\n",
        "    print(\"the two rectangles have the same area\")\n"
      ],
      "execution_count": null,
      "outputs": []
    },
    {
      "cell_type": "markdown",
      "metadata": {
        "id": "25zTqb8KP_qi"
      },
      "source": [
        "2"
      ]
    },
    {
      "cell_type": "code",
      "metadata": {
        "id": "1TfR7xBYP5pe"
      },
      "source": [
        "number=int(input(\"enter a pocket number: \"))\n",
        "if number < 0 or number > 36 :\n",
        "    print(\"error number must be between 0 and 36\")\n",
        "elif number == 0 :\n",
        "    print(\"pocket color is green\")\n",
        "elif number <= 10 or 19 <= number <= 28 :\n",
        "    if number % 2 ==0 :\n",
        "        print(\"pocket color is black\")\n",
        "    else :\n",
        "        print(\"pocket color is red\")\n",
        "else :\n",
        "    if number % 2 == 0 :\n",
        "        print(\"pocket color is red\")\n",
        "    else :\n",
        "        print(\"pocket color is black\")"
      ],
      "execution_count": null,
      "outputs": []
    },
    {
      "cell_type": "markdown",
      "metadata": {
        "id": "HwIrNeBzQEpf"
      },
      "source": [
        "3"
      ]
    },
    {
      "cell_type": "code",
      "metadata": {
        "id": "Oj9RFA1wQFR3"
      },
      "source": [
        "weight=int(input(\"please enter your weight in pounds: \"))\n",
        "height=int(input(\"please enter your height in inches: \"))\n",
        "bmi=(weight*703)/height**2\n",
        "print(\"your bmi is : \",format(bmi,'.2f'))\n",
        "if 18.5 <= bmi <= 25 :\n",
        "    print(\"optimal weight\")\n",
        "elif bmi < 18.5 :\n",
        "    print(\"underweight\")\n",
        "else :\n",
        "    print(\"overweight\")  "
      ],
      "execution_count": null,
      "outputs": []
    }
  ]
}